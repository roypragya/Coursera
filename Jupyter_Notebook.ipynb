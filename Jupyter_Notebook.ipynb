{
 "cells": [
  {
   "cell_type": "markdown",
   "metadata": {},
   "source": [
    "<center>\n",
    "    <img src=\"https://s3-api.us-geo.objectstorage.softlayer.net/cf-courses-data/CognitiveClass/Logos/organization_logo/organization_logo.png\" width=\"300\" alt=\"cognitiveclass.ai logo\"  />\n",
    "</center>\n"
   ]
  },
  {
   "cell_type": "markdown",
   "metadata": {},
   "source": [
    "#### Add your code below following the instructions given in the course\n"
   ]
  },
  {
   "cell_type": "markdown",
   "metadata": {},
   "source": [
    "# My Jupyter Notebook on IBM Watson Studio"
   ]
  },
  {
   "cell_type": "markdown",
   "metadata": {},
   "source": [
    "**Pragya Roy**\n",
    "<br>Data Scientist"
   ]
  },
  {
   "cell_type": "markdown",
   "metadata": {},
   "source": [
    "*I am interested in data science because data science is the journey toward achieving three significant kinds of results: discovery, insights, and innovation*"
   ]
  },
  {
   "cell_type": "markdown",
   "metadata": {},
   "source": [
    "### In the next cell we are adding two given number and displaying its sum"
   ]
  },
  {
   "cell_type": "code",
   "execution_count": 2,
   "metadata": {},
   "outputs": [
    {
     "name": "stdout",
     "output_type": "stream",
     "text": [
      "12\n"
     ]
    }
   ],
   "source": [
    "a=5\n",
    "b=7\n",
    "print(a+b)"
   ]
  },
  {
   "cell_type": "markdown",
   "metadata": {},
   "source": [
    "###### Horizontal line\n",
    "---\n",
    "###### Bullet list\n",
    "- Item A\n",
    "    - Sub Item\n",
    "- Item B\n",
    "    - Sub Item\n",
    "    \n",
    "###### Numbered List\n",
    "1. Item 1\n",
    "2. Item 2\n",
    "3. Item 3\n",
    "\n",
    "###### Table\n",
    "| col 1 | col 2 | col 3 |\n",
    "|-------|-------|-------|\n",
    "| abcde | efghi | jklmn |\n",
    "| opqrs | tuvwx | yzabc |\n",
    "\n",
    "###### Hyperlink\n",
    "__[link to music video on youtube]https://www.youtube.com/watch?v=i23NEQEFpgQ&list=TLPQMTcwODIwMjIsjjDO9DPwtQ&index=6__\n",
    "\n",
    "###### Images\n",
    "![cherry_blossom](https://www.google.co.in/imgres?imgurl=https%3A%2F%2Fmedia.istockphoto.com%2Fphotos%2Fblooming-cherry-flowers-branch-in-spring-picture-id663828332%3Fk%3D20%26m%3D663828332%26s%3D612x612%26w%3D0%26h%3DT9isvYI_QkqO7Jcr8HxLJUZ-i_dgprLwgrrFgZVDROg%3D&imgrefurl=https%3A%2F%2Fwww.istockphoto.com%2Fphotos%2Fcherry-blossom-close-up&tbnid=UfvxOWrhW8GQ4M&vet=12ahUKEwiujdDVz875AhVdgtgFHadzCosQMygCegUIARDLAQ..i&docid=2c_7B2oQa88iFM&w=612&h=405&q=cgerry%20blossom&hl=en&ved=2ahUKEwiujdDVz875AhVdgtgFHadzCosQMygCegUIARDLAQ \"Cherry Blossoms\")\n",
    "\n"
   ]
  },
  {
   "cell_type": "code",
   "execution_count": null,
   "metadata": {},
   "outputs": [],
   "source": []
  },
  {
   "cell_type": "code",
   "execution_count": null,
   "metadata": {},
   "outputs": [],
   "source": []
  }
 ],
 "metadata": {
  "kernelspec": {
   "display_name": "Python",
   "language": "python",
   "name": "conda-env-python-py"
  },
  "language_info": {
   "codemirror_mode": {
    "name": "ipython",
    "version": 3
   },
   "file_extension": ".py",
   "mimetype": "text/x-python",
   "name": "python",
   "nbconvert_exporter": "python",
   "pygments_lexer": "ipython3",
   "version": "3.7.12"
  }
 },
 "nbformat": 4,
 "nbformat_minor": 4
}
